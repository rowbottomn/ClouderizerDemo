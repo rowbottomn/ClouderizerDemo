{
  "nbformat": 4,
  "nbformat_minor": 0,
  "metadata": {
    "colab": {
      "name": "kerasMLlearning1.ipynb",
      "version": "0.3.2",
      "provenance": [],
      "include_colab_link": true
    },
    "kernelspec": {
      "name": "python3",
      "display_name": "Python 3"
    }
  },
  "cells": [
    {
      "cell_type": "markdown",
      "metadata": {
        "id": "view-in-github",
        "colab_type": "text"
      },
      "source": [
        "[View in Colaboratory](https://colab.research.google.com/github/rowbottomn/ClouderizerDemo/blob/master/kerasMLlearning1.ipynb)"
      ]
    },
    {
      "metadata": {
        "id": "UXZVKT-5C2Z3",
        "colab_type": "code",
        "colab": {
          "base_uri": "https://localhost:8080/",
          "height": 170
        },
        "outputId": "99598659-6f9a-4ad7-b6b1-32318c8ff9e5"
      },
      "cell_type": "code",
      "source": [
        "import tensorflow as tf\n",
        "import matplotlib.pyplot as plot\n",
        "from tensorflow.python.keras.models import save_model\n",
        "from google.colab import files\n",
        "import matplotlib.pyplot as plot\n",
        "from IPython.display import Image\n",
        "\n",
        "def show(element):\n",
        "  #plot.imshow(element)\n",
        "  plot.imshow(element, cmap = plot.cm.binary) #https://matplotlib.org/examples/color/colormaps_reference.html\n",
        "  plot.show()\n",
        "\n",
        "from tensorflow import keras as keras\n",
        "\n",
        "#assign a variable to the dataset\n",
        "mnist = keras.datasets.mnist  #28x28 pictures of numbers 0-9\n",
        "\n",
        "#load the data set\n",
        "(x_train, y_train), (x_test, y_test) = mnist.load_data()\n",
        "\n",
        "\n",
        "\n",
        "#normalize the data set\n",
        "x_train = tf.keras.utils.normalize(x_train, axis = 1)\n",
        "x_test = tf.keras.utils.normalize(x_test, axis = 1)\n",
        "\n",
        "img_rows , img_cols = 28, 28\n",
        "\n",
        "#displaying individual elements\n",
        "#show(x_train[10000])\n",
        "\n",
        "#print (x_train[0] )\n",
        "\n",
        "#builld the model\n",
        "\n",
        "model = tf.keras.models.Sequential()\n",
        "model.add(tf.keras.layers.InputLayer(input_shape=[28,28])) #input layer\n",
        "model.add(tf.keras.layers.Flatten())\n",
        "\n",
        "model.add(tf.keras.layers.Dense(128, activation = tf.nn.relu))#Hidden layer 1\n",
        "model.add(tf.keras.layers.Dense(128, activation = tf.nn.relu))#hidden layer 2\n",
        "model.add(tf.keras.layers.Dense(10, activation = tf.nn.softmax))#output layer\n",
        "\n",
        "#set the train parameters of the model\n",
        "model.compile(optimizer = 'adam', \n",
        "             loss = 'sparse_categorical_crossentropy',\n",
        "             metrics =['accuracy'])\n",
        "\n",
        "#train the model\n",
        "\n",
        "model.fit(x_train, y_train, epochs=3)\n",
        "\n",
        "model.save('first_mnist_reader.model')\n",
        "\n",
        "#new_model = tf.keras.models.load_model('first_mnist_reader.model')\n",
        "\n",
        "#predictions = model.predict([x_test])\n",
        "\n",
        "#import numpy as np\n",
        "\n",
        "#print(np.argmax(predictions[0]))\n",
        "\n"
      ],
      "execution_count": 2,
      "outputs": [
        {
          "output_type": "stream",
          "text": [
            "Downloading data from https://storage.googleapis.com/tensorflow/tf-keras-datasets/mnist.npz\n",
            "11493376/11490434 [==============================] - 0s 0us/step\n",
            "Epoch 1/3\n",
            "60000/60000 [==============================] - 7s 124us/step - loss: 0.2667 - acc: 0.9214\n",
            "Epoch 2/3\n",
            "60000/60000 [==============================] - 7s 119us/step - loss: 0.1096 - acc: 0.9663\n",
            "Epoch 3/3\n",
            "60000/60000 [==============================] - 7s 117us/step - loss: 0.0741 - acc: 0.9762\n",
            "7\n"
          ],
          "name": "stdout"
        }
      ]
    },
    {
      "metadata": {
        "id": "NC0TTwrVKP8l",
        "colab_type": "text"
      },
      "cell_type": "markdown",
      "source": [
        "If the values for loss and accuracy are too different (they should be worse), then you may have overfit the model to the samples."
      ]
    },
    {
      "metadata": {
        "id": "jRNPARSBJxa4",
        "colab_type": "code",
        "colab": {
          "base_uri": "https://localhost:8080/",
          "height": 51
        },
        "outputId": "e3231e34-834d-4057-a190-cb2a7ff71f85"
      },
      "cell_type": "code",
      "source": [
        "val_loss, val_acc = model.evaluate(x_test, y_test)\n",
        "\n",
        "print(val_loss,val_acc)"
      ],
      "execution_count": 4,
      "outputs": [
        {
          "output_type": "stream",
          "text": [
            "10000/10000 [==============================] - 0s 39us/step\n",
            "0.09496138324188068 0.9695\n"
          ],
          "name": "stdout"
        }
      ]
    },
    {
      "metadata": {
        "id": "tbNFmacNKco8",
        "colab_type": "text"
      },
      "cell_type": "markdown",
      "source": [
        "Saving the model and loading"
      ]
    },
    {
      "metadata": {
        "id": "uAYi6_0dK7B9",
        "colab_type": "code",
        "colab": {
          "resources": {
            "http://localhost:8080/nbextensions/google.colab/files.js": {
              "data": "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",
              "ok": true,
              "headers": [
                [
                  "content-type",
                  "application/javascript"
                ]
              ],
              "status": 200,
              "status_text": ""
            }
          },
          "base_uri": "https://localhost:8080/",
          "height": 1054
        },
        "outputId": "7d46e010-36fd-47cf-826b-ba04271adc20"
      },
      "cell_type": "code",
      "source": [
        "#new_model = tf.keras.models.load_model('first_mnist_reader.model')\n",
        "\n",
        "uploaded = files.upload()\n",
        "\n",
        "myFiles = print(uploaded)\n",
        "predictions = model.predict(uploaded)\n",
        "\n",
        "import numpy as np\n",
        "\n",
        "print(np.argmax(predictions[0]))\n",
        "\n",
        "show(uploaded)"
      ],
      "execution_count": 8,
      "outputs": [
        {
          "output_type": "display_data",
          "data": {
            "text/html": [
              "\n",
              "     <input type=\"file\" id=\"files-b22bfef6-321b-4070-b832-f64255106651\" name=\"files[]\" multiple disabled />\n",
              "     <output id=\"result-b22bfef6-321b-4070-b832-f64255106651\">\n",
              "      Upload widget is only available when the cell has been executed in the\n",
              "      current browser session. Please rerun this cell to enable.\n",
              "      </output>\n",
              "      <script src=\"/nbextensions/google.colab/files.js\"></script> "
            ],
            "text/plain": [
              "<IPython.core.display.HTML object>"
            ]
          },
          "metadata": {
            "tags": []
          }
        },
        {
          "output_type": "stream",
          "text": [
            "Saving test7.png to test7 (4).png\n",
            "{'test7.png': b'\\x89PNG\\r\\n\\x1a\\n\\x00\\x00\\x00\\rIHDR\\x00\\x00\\x01 \\x00\\x00\\x01\\x81\\x08\\x02\\x00\\x00\\x00I\\xa1\\xfb\\x9c\\x00\\x00\\x00\\x01sRGB\\x00\\xae\\xce\\x1c\\xe9\\x00\\x00\\x00\\x04gAMA\\x00\\x00\\xb1\\x8f\\x0b\\xfca\\x05\\x00\\x00\\x00\\tpHYs\\x00\\x00\\x0e\\xc3\\x00\\x00\\x0e\\xc3\\x01\\xc7o\\xa8d\\x00\\x00\\x0c\\xa9IDATx^\\xed\\xdd!X\\x1bI\\x1f\\xc0\\xe1\\x93H$\\x12\\x89D\"+\\x91\\xc8J$\\x12\\x89\\xabD\"+#\\x91\\x91\\x91\\xc8H$\\x12\\x19\\x19\\x89\\xbco\\xfa1\\xd7\\xbb4\\xcc\\x92\\x84\\xfc7\\xb3\\xb3\\xef+\\xcet\\x9e\\xeb=-\\xbf\\xdb\\xdd\\xd9\\x99\\xd9\\xbf\\xfe\\x06\\xc2\\x08\\x0c\\x02\\t\\x0c\\x02\\t\\x0c\\x02\\t\\x0c\\x02\\t\\x0c\\x02\\t\\x0c\\x02\\t\\x0c\\x02\\t\\x0c\\x02\\t\\x0c\\x02\\t\\x0c\\x02\\t\\x0c\\x02\\t\\x0c\\x02\\t\\x0c\\x02\\t\\x0c\\x02\\t\\x0c\\x02\\t\\x0c\\x02\\t\\x0c\\x02\\t\\x0c\\x02\\t\\x0c\\x02\\t\\x0c\\x02\\t\\x0c\\x02\\t\\x0c\\x02\\t\\x0c\\x02\\t\\x0c\\x02\\t\\x0c\\x02\\t\\x0c\\x02\\t\\x0c\\x02\\t\\x0c\\x02\\t\\x0c\\x02\\t\\x0c\\x02\\t\\x0c\\x02\\t\\x0c\\x02\\t\\x0c\\x02\\t\\x0c\\x02\\t\\x0c\\x02\\t\\x0c\\x02\\t\\x0c\\x02\\t\\x0c\\x02\\t\\x0c\\x02\\t\\x0c\\x02\\t\\x0c\\x02\\t\\x0c\\x02\\t\\x0c\\x02\\t\\x0c\\x02\\t\\x0c\\x02\\t\\x0c\\x02\\t\\x0c\\x02\\t\\x0c\\x02\\t\\x0c\\x02\\t\\x0c\\x02\\t\\x0c\\x02\\t\\x0c\\x02\\t\\x0c\\x02\\t\\x0c\\x02\\t\\x0c\\x02\\t\\x0c\\x02\\t\\x0c\\x02\\t\\x0c\\x02\\t\\x0c\\x02\\t\\x0c\\x025\\x18\\xd8\\xf3\\xf3\\xf3d2\\xf9\\xb1\\x8d4\\xfe\\xe9\\xe9\\xe9\\xf5\\xf55\\xff+`O\\x9a\\nl\\xb9\\\\^^^\\xfe\\xf55\\xa7\\xa7\\xa7\\xdf\\xbe}\\xbb\\xbe\\xbe\\xfe\\x1d\\xdeb\\xb1\\xc8\\xbf\\x01l\\xa9\\xa9\\xc0R\\x18\\xb9\\x92\\x00\\x17\\x17\\x17\\xe9\\xdf\\x9f\\xaa{xxH\\xd5\\xa5\\x98\\xf3\\xef\\ne\\xed\\x046\\x9f\\xcfs\\n}I\\xd7\\xbat\\xc1L\\xc9M\\xa7\\xd3\\x97\\x97\\x97\\xfc\\xdf\\x01\\xff\\xd1N`?\\x7f\\xfe\\xcc?\\xf8\\x87\\x93.q\\xb7\\xb7\\xb7\\xbf\\x9e\\xea\\x0e\\xe4\\xfd\\x9e6\\xc9\\x7f(\\x1cZ;\\x81\\xcdf\\xb3\\xfcc\\xce?\\xde\\x9f\\'\\xdf/\\xb3\\xc9\\xe3\\xe3\\xe3{~\\xeb\\xb6\\x9d\\x16\\xdaA\\xfa-\\x9e\\x9f\\x9f\\xf3\\xdf\\xd6h\\xb4\\x13\\xd8\\xdb\\xdb[\\xfay\\xca?Y\\xd4*=\\xca\\x8e\\xeav\\xba\\xa9I\\x8e\\xf4\\x18vrr\\x92\\xff&\\xa9\\xd5\\xd9\\xd9Y\\xfa\\xbfa\\xfe;k]S\\x81%\\xcb\\xe5\\xf2\\xe1\\xe1!\\xdf\\x94l\\xec\\xfa\\xfa:\\xddJ\\xb9\\x00\\xf6f:\\x9d\\xe6\\xbf\\xb0\\xd6\\xb5\\x16\\xd8\\xd7\\xa5\\x1b\\x98\\xf4L\\xf2^izzI\\xb74\\xf9\\x87\\x82\\xfdI\\x7f\\xb6\\xf9\\x8f\\xbbu\\x02\\xdb\\xc8\\xeb\\xeb\\xeb\\xef\\xea\\xd2\\xb5\\xce\\x8d\\xe8\\x17\\t\\x8cO\\xa4{\\xd1\\xf7\\xe4nnnRr\\xf9\\x07\\x87\\xcd\\x08\\x8c\\xad\\xa5{\\xcb\\xd9l\\x96~t\\x0e\\xe8\\xfda\\xb2\\xfe\\xe0\\xd3\\x7fj\\xfeSk\\x9d\\xc0Z\\xf6\\xfe<9\\x9dN\\xdf\\xf3\\xeb\\xd3\\xd1\\xd1Q\\x8e\\xe9#&9`w\\xdd\\xcb\\xd6R{\\xe3Y\\xc9)0\\xf6/=\\x9a\\xe6\\x98\\xd6\\x1c\\x1f\\x1f\\xa7\\x8bj\\x1e7\\x02\\x02c\\xff\\xd2-b\\xeei\\xcdd2\\xc9\\x83\\xc6A`\\xec\\xdf\\xf7\\xef\\xdfsO\\xab\\xd2\\xcd\\xe1\\xd86\\xd7\\t\\x8c=K\\t\\x95f8\\xee\\xef\\xef\\xf3\\xa0\\xd1\\x10\\x18{\\xd6\\xf1\\x006\\xc2]s\\x02c\\xcf\\xce\\xce\\xcerO\\xab\\xbe}\\xfb\\x96G\\x8c\\x89\\xc0\\xd8\\xa7t\\x13\\x98{Z\\xf3\\xf8\\xf8\\x98\\x07\\x8d\\x89\\xc0\\xd8\\x9bt\\x07Xz\\xfa:99\\x19\\xcf\\x16\\x95\\xff\\x12\\x18{\\xd3\\xb1\\xf3\\xe0\\xf6\\xf66\\x0f\\x1a\\x19\\x81\\xb1\\x1f\\x1d7\\x87#\\x9c\\x9d\\xffM`\\xecA\\xc7\\xcda\\xf2c4K{\\xd7\\t\\x8c=\\xe8X\\xbf\\x7f~~>\\xce\\xa7\\xafw\\x02\\xe3\\xab\\x9e\\x9f\\x9fsLk\\xd2em\\x84\\'I\\xfd\\x97\\xc0\\xf8\\xaa\\x8e\\xa7\\xaf1\\xdf\\x1c\\xbe\\x13\\x18_uuu\\x95{Z5\\xf2\\x9b\\xc3w\\x02\\xe3\\xab\\x8e\\x8f\\x8fsR\\xabf\\xb3Y\\x1e1b\\x02\\xe3K^__sOk|\\x1f#\\x11\\x18_2\\x99LrO\\xab\\xd2\\xfda\\x1e1n\\x02\\xe3KnoosR\\xab\\xae\\xaf\\xaf\\xf3\\x88q\\x13\\x18_\\x92\\xaeT9\\xa9Uc\\xdb\\xb9\\\\\"0v\\xf7\\xf6\\xf6\\x96{Z3\\xf2\\xd7_\\xbf\\t\\x8c\\xdd===\\xe5\\x9eV\\x1d\\x1f\\x1f\\xe7\\x11\\xa3\\'0vW\\xda\\xbc|yy\\x99G\\x8c\\x9e\\xc0\\xd8]\\xe9\\xf4\\xa8\\xbb\\xbb\\xbb<b\\xf4\\x04\\xc6\\xeeJ\\x81Y!\\xf5\\x9b\\xc0\\xd8]\\xe9x6\\x81\\xfd&0v\\xd4q<\\xdb\\xcf\\x9f?\\xf3\\xa0\\xd1\\x13\\x18;r<\\xdb&\\x04\\xc6\\x8e\\x1c\\xcf\\xb6\\t\\x81\\xb1\\x8b\\xe9t\\x9a{Z3\\xce\\xe3\\xd9J\\x04\\xc6.J+\\xa4F{<[\\x89\\xc0\\xd8Zi\\x01G2\\xda\\xe3\\xd9J\\x04\\xc6\\xd6nnnrOkLo\\xfcA`l-\\xdd\\x07\\xe6\\x9eV]]]\\xe5\\x11\\xfcC`l\\xa7\\xe3\\xfe\\xd0\\n\\xfau\\x02c;\\xa5\\xe5Qgggy\\x04\\xff!0\\xb6S:c\\xd4\\xf2\\xa8\\x0f\\t\\x8c-\\xbc\\xbd\\xbd\\x95\\x96G\\x8d\\xea\\xd3\\xe6\\x9b\\x13\\x18[(=\\x80\\xa5\\xea\\xbc\\xfe\\xfa\\x90\\xc0\\xd8B\\xe9\\x01\\xcc\\xf2\\xa8\\x12\\x81\\xb1\\x05\\x0f`\\xdb\\x12\\x18\\x9b\\xf2\\x00\\xb6\\x03\\x81\\xb1)\\x0f`;\\x10\\x18\\x9b*\\xad\\x90\\xf2\\x00\\xd6A`l\\xaa\\xb4B\\xca\\x03X\\x07\\x81\\xb1\\x91\\x8e\\x15R\\xf3\\xf9<\\x0fb\\x8d\\xc0\\xd8H\\xe9#`\\xa7\\xa7\\xa7y\\x04\\x1f\\x11\\x18\\x9f\\xeb\\xf8H\\xac#\\x10\\xbb\\t\\x8c\\xcf]__\\xe7\\x9e\\xd6\\xbc\\xbe\\xbe\\xe6A|D`|\\xa2\\xe3x6\\x1b\\xc0>%0>Q\\xfa\\x02Xb\\x03\\xd8\\xa7\\x04F\\x97\\x8e\\xd5\\x1b\\xbea\\xb9\\t\\x81\\xd1\\xa5\\xe3t\\xd1\\xe9t\\x9a\\x07Q&0\\x8a\\xd2\\xe5\\xab\\xf4r\\xd9\\xfe\\xe5\\r\\t\\x8c\\xa2\\xd2\\x07\\xce\\x93te\\xcb\\x83\\xe8$0\\x8a\\x9c.\\xfau\\x02\\xe3c\\x1dk\\xa3\\xbc\\\\\\xde\\x9c\\xc0\\xf8X\\xe9\\xdb_GGG\\x8b\\xc5\"\\x0f\\xe23\\x02\\xe3\\x03\\x1d/\\x97onn\\xf2 6 0>\\xd01;\\xef\\xe5\\xf2V\\x04\\xc6\\x07J\\xdf\\xfe\\xba\\xb8\\xb8\\xc8#\\xd8\\x8c\\xc0\\xf8\\xd3|>\\xcf=\\xad\\x99L&y\\x10\\x9b\\x11\\x18\\x7f*\\xdd\\x1f\\x1e\\x1f\\x1f\\x9b\\x9d\\xdf\\x96\\xc0\\xf8Si\\xfe\\xd0\\xb7\\xbfv 0\\xfeTz\\x00\\x9b\\xcdfy\\x04\\x1b\\x13\\x18+\\x96\\xcbe\\xeeiM\\xfa\\xa5<\\x88\\x8d\\t\\x8c\\x15\\xa5\\xaf\\x9b;{c7\\x02cEi\\xfd\\xa1\\xcd\\xcb\\xbb\\x11\\x18\\xff*]\\xbe\\x92\\xfb\\xfb\\xfb<\\x88m\\x08\\x8c\\x7f\\x95._\\x89\\xaf\\x9b\\xefF`d\\x1d\\xcb\\xe7\\xdd\\x1f\\xeeL`d\\xa5\\xd7_\\x89\\xf5\\x87;\\x13\\x18\\xbf8\\x9b-\\x88\\xc0\\xf8\\xc5\\xf2\\xf9 \\x02\\xe3\\x97\\xd2\\xea\\r\\x9f&\\xfa\"\\x81\\xd15\\xbd\\xf1\\xf8\\xf8\\x98\\x07\\xb1\\x13\\x81Q\\xfc\\xb2\\x9e\\xc3m\\xbeN`\\x14\\xbf\\xacg\\xf9\\xfc\\xd7\\tl\\xec:\\xee\\x0f\\xbd\\\\\\xfe:\\x81\\x8d]\\xe9\\xfe\\xd0\\xd9\\xbd{!\\xb0\\xb1\\xf3\\xe5\\xe5P\\x02\\x1b\\xb5\\x8e\\xd5\\xbd\\xee\\x0f\\xf7B`\\xa3VZ\\xdd\\xeb\\xfep_\\x046^\\x1d\\x97/\\xf7\\x87\\xfb\"\\xb0\\xf1\\xb29\\xa5\\x07\\x02\\x1b)\\x9bS\\xfa!\\xb0\\x91\\xb29\\xa5\\x1f\\x02\\x1b#\\x9bSz#\\xb01\\xb29\\xa57\\x02\\x1b#\\x9bSz#\\xb0\\xd1I\\xd7\\xa8\\xdc\\xd3\\x1a\\x9bS\\xf6N`\\xa3\\xf3\\xe3\\xc7\\x8f\\xdc\\xd3*\\x9bS\"\\x08lt\\xd2}`Nj\\x95\\xcd)\\x11\\x046.\\xe9\\x1aU\\x9a?\\x9c\\xcf\\xe7y\\x10\\xfb#\\xb0q)\\xbd_N\\xd5\\xb9?\\x8c \\xb0q)\\xbd_6\\x7f\\x18D`#\\xd2\\xf1~\\xd9\\xea\\xde \\x02\\x1b\\x91\\x8e\\xf7\\xcbV\\xf7\\x06\\x11\\xd8\\x88x\\xbf\\xdc?\\x81\\x8d\\xc5|>\\xcf=\\xad\\xf1~9\\x8e\\xc0\\xc6\\xa2t\\x7f\\xe8\\xfdr(\\x81\\x8dEi\\xfe\\xd0\\xfb\\xe5P\\x02\\x1b\\x8b\\xd2\\x03\\xd8l6\\xcb#\\x08 \\xb0QX.\\x97\\xb9\\xa75\\xe9\\x97\\xf2 \\x02\\x08l\\x14\\xee\\xef\\xefsO\\xabNOO\\xf3\\x08b\\x08\\xac}///\\xf6/\\x1f\\x8a\\xc0\\xdawqq\\x91{Z\\xf3\\xf0\\xf0\\x90\\x07\\x11C`\\x8d\\xeb\\xd8^\\x99.k\\x8b\\xc5\"\\x8f#\\x86\\xc0\\x1aW\\xda^\\x99X\\x7f\\xd8\\x03\\x815\\xae\\xb4\\xbd\\xf2\\xfc\\xfc\\xdc\\xfb\\xe5\\x1e\\x08\\xace\\x1d\\xdb+\\x9f\\x9e\\x9e\\xf2 \"\\t\\xace\\xb6W\\x1e\\x9c\\xc0ZVz\\x00\\xb3|\\xbe7\\x02kY\\xe9\\x01\\xcc\\xf4Fo\\x04\\xd6,\\x0f`5\\x10X\\xb3<\\x80\\xd5@`\\xcd*m\\x00\\xf3\\x00\\xd6\\'\\x815\\xeb\\xe6\\xe6&\\'\\xb5\\xea\\xee\\xee.\\x8f \\x9e\\xc0\\x9aUZ\\x82\\xe8\\x80\\x80>\\t\\xacY\\xc7\\xc7\\xc79\\xa9U>P\\xd4\\'\\x81\\xb5i\\xb1X\\xe4\\x9e\\xd6\\x98\\xe1\\xe8\\x93\\xc0\\xda4\\x9b\\xcdrO\\xab\\xce\\xce\\xce\\xf2\\x08z!\\xb06\\x95\\xb60\\xdba\\xd93\\x81\\xb5\\xa9t\\x86\\x94)\\xc4\\x9e\\t\\xacM\\xe7\\xe7\\xe79\\xa9U\\xa6\\x10{&\\xb06\\x95\\x16I\\x99B\\xec\\x99\\xc0\\x1a\\xf4\\xf2\\xf2\\x92{Zc\\n\\xb1g\\x02k\\xd0t:\\xcd=\\xad2\\x85\\xd8?\\x815\\xc8\\x14b=\\x04\\xd6 S\\x88\\xf5\\x10X\\x83L!\\xd6C`\\r2\\x85X\\x0f\\x81\\xb5\\xc6\\x14bU\\x04\\xd6\\x1aS\\x88U\\x11XkJ\\'I\\x99B<\\x08\\x81\\xb5\\xc6IRU\\x11XS\\x9c$U\\x1b\\x815\\xc5IR\\xb5\\x11XS\\x9c$U\\x1b\\x815\\xc5IR\\xb5\\x11XSJ3\\x1c\\xd6p\\x1c\\x8a\\xc0\\x9arrr\\x92\\x93Z5\\x9f\\xcf\\xf3\\x08\\xfa%\\xb0v,\\x97\\xcb\\xdc\\xd3\\x9a\\xf4Ky\\x10\\xfd\\x12X;\\xd2e*\\xf7\\xb4*]\\xd6\\xf2\\x08z\\'\\xb0v\\xa4\\x07\\xad\\x9c\\xd4*S\\x88\\x07$\\xb0v\\xdc\\xdd\\xdd\\xe5\\xa4V\\xdd\\xdc\\xdc\\xe4\\x11\\xf4N`\\xed\\xb8\\xba\\xba\\xcaI\\xadzxx\\xc8#\\xe8\\x9d\\xc0\\xdaQ\\xdag9\\x9b\\xcd\\xf2\\x08z\\'\\xb0v\\x94V!\\xbe\\xbc\\xbc\\xe4\\x11\\xf4N`\\x8d(\\xed\\xb3L\\xd5\\xe5\\x11\\x1c\\x82\\xc0\\x1aQ\\xfa\\xdaC\\xbao\\xcc#8\\x04\\x815\\xa2\\xb4\\xcc\\xd7>\\xcb\\xc3\\x12X#J\\x1b\\x99-\\xf3=,\\x815\\xa2\\x14\\x98\\x8d\\xcc\\x87%\\xb0F\\x94\\xe6\\xe8\\x05vX\\x02kA\\xe9$\\xa9d2\\x99\\xe4A\\x1c\\x82\\xc0ZP\\xba|%^\\x82\\x1d\\x96\\xc0\\x06\\xaft\\x0eGb\\n\\xf1\\xe0\\x046x\\xa5c\\x02\\x12ge\\x1f\\x9c\\xc0\\x06\\xaf\\xb4\\x8b\\xd9\\xe5\\xab\\x06\\x02\\x1b\\xb6\\xd2\\xa7\\xc0\\x12\\x97\\xaf\\x1a\\x08l\\xc0^^^J\\x0b|\\x9dD_\\t\\x81\\r\\xd8\\xc5\\xc5E\\xeei\\x8d\\xd7_\\x95\\x10\\xd8Pu\\xbc\\xfbJ\\x97\\xb5\\xc5b\\x91\\xc7qP\\x02\\x1b\\xa4\\xd7\\xd7\\xd7\\xd3\\xd3\\xd3\\xdc\\xd3\\x1a\\x97\\xafz\\x08lx\\xba\\xeb:??w\\x0c}=\\x0460\\xe9\\xde\\xaf\\xa3\\xaetsh\\xf2\\xb0*\\x02\\x1b\\x98\\xcb\\xcb\\xcb\\x1c\\xd3G\\xbc\\xfb\\xaa\\x8d\\xc0\\x86\\xa4t\\xb4\\xe8\\xbbt\\xf9\\xb2\\xf2\\xb06\\x02\\x1b\\x8c\\xeeG\\xaf\\xc4\\xc2\\xf9\\n\\tl\\x18\\xd45P\\x02\\x1b\\x80O\\xeb2/_-\\x81\\xd5\\xae{\\xda0I\\x8f^\\xa9\\xc0<\\x9a\\xca\\x08\\xacj\\xcb\\xe5\\xb2c=\\xd4;\\x1f\\xd7\\xab\\x99\\xc0\\xaaV\\xfab\\xe5o\\x1e\\xbd*\\'\\xb0zuO\\xca\\'\\xea\\xaa\\x9f\\xc0\\xeaU:K\\xf4\\x9d\\xba\\x06A`\\xf5\\xfaQ8\\xea0\\xb9\\xbf\\xbf\\xcf\\x83\\xa8\\x9b\\xc0\\xeaU\\n\\xccn\\x94\\x01\\x11X\\xbdJ\\x819\\r{@\\x04V\\xafR`^+\\x0f\\x88\\xc0\\xea%\\xb0\\x06\\x08\\xac^\\x02k\\x80\\xc0\\xea%\\xb0\\x06\\x08\\xac^\\x02k\\x80\\xc0\\xeaU\\xda\\xbc,\\xb0\\x01\\x11X\\xa5\\x9e\\x9f\\x9fsOk\\x046 \\x02\\xabT\\xc7:\\xa9\\xf4Ky\\x10\\xd5\\x13X\\xa5J\\x0f`v\\x7f\\r\\x8b\\xc0*U\\n\\xcc2\\x8ea\\x11X\\xa5J\\x81y\\x00\\x1b\\x16\\x81UJ`m\\x10X\\xa5\\x04\\xd6\\x06\\x81UJ`m\\x10X\\xa5\\x04\\xd6\\x06\\x81UJ`m\\x10X\\xa5\\xee\\xee\\xeerR\\xab\\x046,\\x02\\xabT\\xe9\\xc06\\xa7q\\x0c\\x8b\\xc0j\\xf4\\xf6\\xf6vT\\xf8\\xba\\xf9\\xd3\\xd3S\\x1e\\xc4\\x10\\x08\\xacF\\xa9\\xa2\\xdc\\xd3\\xaaT\\x9d\\xafW\\x0e\\x8b\\xc0j\\x94\\xee\\x03sR\\xab\\xd2}c\\x1e\\xc1@\\x08\\xacF\\xdf\\xbf\\x7f\\xcfI\\xad\\xb2\\x10qp\\x04V\\xa3\\xb3\\xb3\\xb3\\x9c\\xd4\\xaa\\xe9t\\x9aG0\\x10\\x02\\xab\\xcer\\xb9\\xcc=\\xad\\xb1Qep\\x04V\\x9d\\xd2\\x0c\\xc7\\xc9\\xc9I\\x1e\\xc1p\\x08\\xac:\\xa5\\xbd\\xccWWWy\\x04\\xc3!\\xb0\\xea\\x94\\x16I\\x99\\xe1\\x18\"\\x81U\\xc7*\\xc4\\x96\\x08\\xac:\\x02k\\x89\\xc0\\xaa#\\xb0\\x96\\x08\\xac:\\x02k\\x89\\xc0\\xaa#\\xb0\\x96\\x08\\xac:\\x02k\\x89\\xc0\\xaa#\\xb0\\x96\\x08\\xac:\\x02k\\x89\\xc0\\xaa#\\xb0\\x96\\x08\\xac:\\x02k\\x89\\xc0\\xaa#\\xb0\\x96\\x08\\xac:\\x02k\\x89\\xc0\\xaa#\\xb0\\x96\\x08\\xac:\\x02k\\x89\\xc0\\xaa#\\xb0\\x96\\x08\\xac:\\x02k\\x89\\xc0\\xaa#\\xb0\\x96\\x08\\xac:\\x02k\\x89\\xc0\\xaa#\\xb0\\x96\\x08\\xac:\\x02k\\x89\\xc0\\xaaS:7[`C$\\xb0\\xea\\xccf\\xb3\\x9c\\xd4\\xaa\\xc9d\\x92G0\\x1c\\x02\\xab\\xce\\xdb\\xdb\\xdb\\xe9\\xe9i\\xae\\xea\\x1fGGG\\x8b\\xc5\"\\x8f`8\\x04V\\xa3\\xf9|~rr\\x92\\xdb\\xfa\\x7f]\\x8f\\x8f\\x8f\\xf9\\xd7\\x18\\x14\\x81Uj\\xb9\\\\><<\\xa4\\xe7\\xae\\xf4O\\xd7\\xae\\xe1\\x12\\x18\\x04\\x12\\x18\\x04\\x12\\x18\\x04\\x12\\x18\\x04\\x12\\x18\\x04\\x12\\x18\\x04\\x12\\x18\\x04\\x12\\x18\\x04\\x12\\x18\\x04\\x12\\x18\\x04\\x12\\x18\\x04\\x12\\x18\\x04\\x12\\x18\\x04\\x12\\x18\\x04\\x12\\x18\\x04\\x12\\x18\\x04\\x12\\x18\\x04\\x12\\x18\\x04\\x12\\x18\\x04\\x12\\x18\\x04\\x12\\x18\\x04\\x12\\x18\\x04\\x12\\x18\\x04\\x12\\x18\\x04\\x12\\x18\\x04\\x12\\x18\\x04\\x12\\x18\\x04\\x12\\x18\\x04\\x12\\x18\\x04\\x12\\x18\\x04\\x12\\x18\\x04\\x12\\x18\\x04\\x12\\x18\\x04\\x12\\x18\\x04\\x12\\x18\\x04\\x12\\x18\\x04\\x12\\x18\\x04\\x12\\x18\\x04\\x12\\x18\\x04\\x12\\x18\\x04\\x12\\x18\\x04\\x12\\x18\\x04\\x12\\x18\\x04\\x12\\x18\\x04\\x12\\x18\\x04\\x12\\x18\\x04\\x12\\x18\\x04\\x12\\x18\\x04\\x12\\x18\\x04\\x12\\x18\\x04\\x12\\x18\\x04\\x12\\x18\\x04\\x12\\x18\\x04\\x12\\x18\\x04\\x12\\x18\\x04\\x12\\x18\\x04\\x12\\x18\\x04\\x12\\x18\\x04\\x12\\x18\\x04\\x12\\x18\\x04\\x12\\x18\\x04\\x12\\x18\\x04\\x12\\x18\\x04\\x12\\x18\\x04\\x12\\x18\\x04\\x12\\x18\\x04\\x12\\x18\\x04\\x12\\x18\\x04\\x12\\x18\\x04\\x12\\x18\\x04\\x12\\x18\\x04\\x12\\x18\\x04\\x12\\x18\\x04\\x12\\x18\\x04\\x12\\x18\\x04\\x12\\x18\\x04\\x12\\x18\\x84\\xf9\\xfb\\xef\\xff\\x01kJF\\x9b\\xb0\\xf1*%\\x00\\x00\\x00\\x00IEND\\xaeB`\\x82'}\n"
          ],
          "name": "stdout"
        },
        {
          "output_type": "error",
          "ename": "ValueError",
          "evalue": "ignored",
          "traceback": [
            "\u001b[0;31m---------------------------------------------------------------------------\u001b[0m",
            "\u001b[0;31mKeyError\u001b[0m                                  Traceback (most recent call last)",
            "\u001b[0;32m/usr/local/lib/python3.6/dist-packages/tensorflow/python/keras/engine/training_utils.py\u001b[0m in \u001b[0;36mstandardize_input_data\u001b[0;34m(data, names, shapes, check_batch_axis, exception_prefix)\u001b[0m\n\u001b[1;32m    259\u001b[0m           \u001b[0;32mif\u001b[0m \u001b[0mdata\u001b[0m\u001b[0;34m[\u001b[0m\u001b[0mx\u001b[0m\u001b[0;34m]\u001b[0m\u001b[0;34m.\u001b[0m\u001b[0m__class__\u001b[0m\u001b[0;34m.\u001b[0m\u001b[0m__name__\u001b[0m \u001b[0;34m==\u001b[0m \u001b[0;34m'DataFrame'\u001b[0m \u001b[0;32melse\u001b[0m \u001b[0mdata\u001b[0m\u001b[0;34m[\u001b[0m\u001b[0mx\u001b[0m\u001b[0;34m]\u001b[0m\u001b[0;34m\u001b[0m\u001b[0m\n\u001b[0;32m--> 260\u001b[0;31m           \u001b[0;32mfor\u001b[0m \u001b[0mx\u001b[0m \u001b[0;32min\u001b[0m \u001b[0mnames\u001b[0m\u001b[0;34m\u001b[0m\u001b[0m\n\u001b[0m\u001b[1;32m    261\u001b[0m       ]\n",
            "\u001b[0;32m/usr/local/lib/python3.6/dist-packages/tensorflow/python/keras/engine/training_utils.py\u001b[0m in \u001b[0;36m<listcomp>\u001b[0;34m(.0)\u001b[0m\n\u001b[1;32m    259\u001b[0m           \u001b[0;32mif\u001b[0m \u001b[0mdata\u001b[0m\u001b[0;34m[\u001b[0m\u001b[0mx\u001b[0m\u001b[0;34m]\u001b[0m\u001b[0;34m.\u001b[0m\u001b[0m__class__\u001b[0m\u001b[0;34m.\u001b[0m\u001b[0m__name__\u001b[0m \u001b[0;34m==\u001b[0m \u001b[0;34m'DataFrame'\u001b[0m \u001b[0;32melse\u001b[0m \u001b[0mdata\u001b[0m\u001b[0;34m[\u001b[0m\u001b[0mx\u001b[0m\u001b[0;34m]\u001b[0m\u001b[0;34m\u001b[0m\u001b[0m\n\u001b[0;32m--> 260\u001b[0;31m           \u001b[0;32mfor\u001b[0m \u001b[0mx\u001b[0m \u001b[0;32min\u001b[0m \u001b[0mnames\u001b[0m\u001b[0;34m\u001b[0m\u001b[0m\n\u001b[0m\u001b[1;32m    261\u001b[0m       ]\n",
            "\u001b[0;31mKeyError\u001b[0m: 'input_1'",
            "\nDuring handling of the above exception, another exception occurred:\n",
            "\u001b[0;31mValueError\u001b[0m                                Traceback (most recent call last)",
            "\u001b[0;32m<ipython-input-8-22415cb5c6b7>\u001b[0m in \u001b[0;36m<module>\u001b[0;34m()\u001b[0m\n\u001b[1;32m      3\u001b[0m \u001b[0;34m\u001b[0m\u001b[0m\n\u001b[1;32m      4\u001b[0m \u001b[0mmyFiles\u001b[0m \u001b[0;34m=\u001b[0m \u001b[0mprint\u001b[0m\u001b[0;34m(\u001b[0m\u001b[0muploaded\u001b[0m\u001b[0;34m)\u001b[0m\u001b[0;34m\u001b[0m\u001b[0m\n\u001b[0;32m----> 5\u001b[0;31m \u001b[0mpredictions\u001b[0m \u001b[0;34m=\u001b[0m \u001b[0mmodel\u001b[0m\u001b[0;34m.\u001b[0m\u001b[0mpredict\u001b[0m\u001b[0;34m(\u001b[0m\u001b[0muploaded\u001b[0m\u001b[0;34m)\u001b[0m\u001b[0;34m\u001b[0m\u001b[0m\n\u001b[0m\u001b[1;32m      6\u001b[0m \u001b[0;34m\u001b[0m\u001b[0m\n\u001b[1;32m      7\u001b[0m \u001b[0;32mimport\u001b[0m \u001b[0mnumpy\u001b[0m \u001b[0;32mas\u001b[0m \u001b[0mnp\u001b[0m\u001b[0;34m\u001b[0m\u001b[0m\n",
            "\u001b[0;32m/usr/local/lib/python3.6/dist-packages/tensorflow/python/keras/engine/training.py\u001b[0m in \u001b[0;36mpredict\u001b[0;34m(self, x, batch_size, verbose, steps)\u001b[0m\n\u001b[1;32m   1750\u001b[0m     \u001b[0;31m# Validate and standardize user data.\u001b[0m\u001b[0;34m\u001b[0m\u001b[0;34m\u001b[0m\u001b[0m\n\u001b[1;32m   1751\u001b[0m     x, _, _ = self._standardize_user_data(\n\u001b[0;32m-> 1752\u001b[0;31m         x, check_steps=True, steps_name='steps', steps=steps)\n\u001b[0m\u001b[1;32m   1753\u001b[0m \u001b[0;34m\u001b[0m\u001b[0m\n\u001b[1;32m   1754\u001b[0m     \u001b[0;32mif\u001b[0m \u001b[0mcontext\u001b[0m\u001b[0;34m.\u001b[0m\u001b[0mexecuting_eagerly\u001b[0m\u001b[0;34m(\u001b[0m\u001b[0;34m)\u001b[0m\u001b[0;34m:\u001b[0m\u001b[0;34m\u001b[0m\u001b[0m\n",
            "\u001b[0;32m/usr/local/lib/python3.6/dist-packages/tensorflow/python/keras/engine/training.py\u001b[0m in \u001b[0;36m_standardize_user_data\u001b[0;34m(self, x, y, sample_weight, class_weight, batch_size, check_steps, steps_name, steps, validation_split)\u001b[0m\n\u001b[1;32m    991\u001b[0m       \u001b[0mx\u001b[0m\u001b[0;34m,\u001b[0m \u001b[0my\u001b[0m \u001b[0;34m=\u001b[0m \u001b[0mnext_element\u001b[0m\u001b[0;34m\u001b[0m\u001b[0m\n\u001b[1;32m    992\u001b[0m     x, y, sample_weights = self._standardize_weights(x, y, sample_weight,\n\u001b[0;32m--> 993\u001b[0;31m                                                      class_weight, batch_size)\n\u001b[0m\u001b[1;32m    994\u001b[0m     \u001b[0;32mreturn\u001b[0m \u001b[0mx\u001b[0m\u001b[0;34m,\u001b[0m \u001b[0my\u001b[0m\u001b[0;34m,\u001b[0m \u001b[0msample_weights\u001b[0m\u001b[0;34m\u001b[0m\u001b[0m\n\u001b[1;32m    995\u001b[0m \u001b[0;34m\u001b[0m\u001b[0m\n",
            "\u001b[0;32m/usr/local/lib/python3.6/dist-packages/tensorflow/python/keras/engine/training.py\u001b[0m in \u001b[0;36m_standardize_weights\u001b[0;34m(self, x, y, sample_weight, class_weight, batch_size)\u001b[0m\n\u001b[1;32m   1110\u001b[0m         \u001b[0mfeed_input_shapes\u001b[0m\u001b[0;34m,\u001b[0m\u001b[0;34m\u001b[0m\u001b[0m\n\u001b[1;32m   1111\u001b[0m         \u001b[0mcheck_batch_axis\u001b[0m\u001b[0;34m=\u001b[0m\u001b[0;32mFalse\u001b[0m\u001b[0;34m,\u001b[0m  \u001b[0;31m# Don't enforce the batch size.\u001b[0m\u001b[0;34m\u001b[0m\u001b[0m\n\u001b[0;32m-> 1112\u001b[0;31m         exception_prefix='input')\n\u001b[0m\u001b[1;32m   1113\u001b[0m \u001b[0;34m\u001b[0m\u001b[0m\n\u001b[1;32m   1114\u001b[0m     \u001b[0;32mif\u001b[0m \u001b[0my\u001b[0m \u001b[0;32mis\u001b[0m \u001b[0;32mnot\u001b[0m \u001b[0;32mNone\u001b[0m\u001b[0;34m:\u001b[0m\u001b[0;34m\u001b[0m\u001b[0m\n",
            "\u001b[0;32m/usr/local/lib/python3.6/dist-packages/tensorflow/python/keras/engine/training_utils.py\u001b[0m in \u001b[0;36mstandardize_input_data\u001b[0;34m(data, names, shapes, check_batch_axis, exception_prefix)\u001b[0m\n\u001b[1;32m    262\u001b[0m     \u001b[0;32mexcept\u001b[0m \u001b[0mKeyError\u001b[0m \u001b[0;32mas\u001b[0m \u001b[0me\u001b[0m\u001b[0;34m:\u001b[0m\u001b[0;34m\u001b[0m\u001b[0m\n\u001b[1;32m    263\u001b[0m       raise ValueError('No data provided for \"' + e.args[0] + '\". Need data '\n\u001b[0;32m--> 264\u001b[0;31m                        'for each key in: ' + str(names))\n\u001b[0m\u001b[1;32m    265\u001b[0m   \u001b[0;32melif\u001b[0m \u001b[0misinstance\u001b[0m\u001b[0;34m(\u001b[0m\u001b[0mdata\u001b[0m\u001b[0;34m,\u001b[0m \u001b[0;34m(\u001b[0m\u001b[0mlist\u001b[0m\u001b[0;34m,\u001b[0m \u001b[0mtuple\u001b[0m\u001b[0;34m)\u001b[0m\u001b[0;34m)\u001b[0m\u001b[0;34m:\u001b[0m\u001b[0;34m\u001b[0m\u001b[0m\n\u001b[1;32m    266\u001b[0m     \u001b[0;32mif\u001b[0m \u001b[0misinstance\u001b[0m\u001b[0;34m(\u001b[0m\u001b[0mdata\u001b[0m\u001b[0;34m[\u001b[0m\u001b[0;36m0\u001b[0m\u001b[0;34m]\u001b[0m\u001b[0;34m,\u001b[0m \u001b[0;34m(\u001b[0m\u001b[0mlist\u001b[0m\u001b[0;34m,\u001b[0m \u001b[0mtuple\u001b[0m\u001b[0;34m)\u001b[0m\u001b[0;34m)\u001b[0m\u001b[0;34m:\u001b[0m\u001b[0;34m\u001b[0m\u001b[0m\n",
            "\u001b[0;31mValueError\u001b[0m: No data provided for \"input_1\". Need data for each key in: ['input_1']"
          ]
        }
      ]
    }
  ]
}